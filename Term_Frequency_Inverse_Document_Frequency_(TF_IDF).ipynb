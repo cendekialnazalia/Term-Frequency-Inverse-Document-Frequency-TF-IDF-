{
  "nbformat": 4,
  "nbformat_minor": 0,
  "metadata": {
    "colab": {
      "provenance": [],
      "authorship_tag": "ABX9TyMpRL+QoWKbYzSaLTrXbWp3",
      "include_colab_link": true
    },
    "kernelspec": {
      "name": "python3",
      "display_name": "Python 3"
    },
    "language_info": {
      "name": "python"
    }
  },
  "cells": [
    {
      "cell_type": "markdown",
      "metadata": {
        "id": "view-in-github",
        "colab_type": "text"
      },
      "source": [
        "<a href=\"https://colab.research.google.com/github/cendekialnazalia/Term-Frequency-Inverse-Document-Frequency-TF-IDF-/blob/main/Term_Frequency_Inverse_Document_Frequency_(TF_IDF).ipynb\" target=\"_parent\"><img src=\"https://colab.research.google.com/assets/colab-badge.svg\" alt=\"Open In Colab\"/></a>"
      ]
    },
    {
      "cell_type": "code",
      "execution_count": 1,
      "metadata": {
        "id": "JmuZFJ8l6x2_"
      },
      "outputs": [],
      "source": [
        "from sklearn.feature_extraction.text import TfidfVectorizer"
      ]
    },
    {
      "cell_type": "code",
      "source": [
        "documents = [\n",
        "    \"Saya suka makan bakso\",\n",
        "    \"Bakso enak dan lezat\",\n",
        "    \"Makanan favorit saya adalah nasi goreng\",\n",
        "    \"Nasi goreng pedas adalah makanan favorit saya\",\n",
        "    \"Saya suka makanan manis seperti es krim\",\n",
        "]"
      ],
      "metadata": {
        "id": "KJLaa19L65D8"
      },
      "execution_count": 2,
      "outputs": []
    },
    {
      "cell_type": "code",
      "source": [
        "tfidf_vectorizer = TfidfVectorizer()"
      ],
      "metadata": {
        "id": "lmk5OHe365Gl"
      },
      "execution_count": 3,
      "outputs": []
    },
    {
      "cell_type": "code",
      "source": [
        "tfidf_matrix = tfidf_vectorizer.fit_transform(documents)"
      ],
      "metadata": {
        "id": "hEaDXUKm65I1"
      },
      "execution_count": 4,
      "outputs": []
    },
    {
      "cell_type": "code",
      "source": [
        "print(\"Vocabulary:\", tfidf_vectorizer.vocabulary_)"
      ],
      "metadata": {
        "colab": {
          "base_uri": "https://localhost:8080/"
        },
        "id": "ZBL2sF_z65LR",
        "outputId": "de0056ee-c7d9-4496-f11c-dde1347d6f8d"
      },
      "execution_count": 5,
      "outputs": [
        {
          "output_type": "stream",
          "name": "stdout",
          "text": [
            "Vocabulary: {'saya': 14, 'suka': 16, 'makan': 9, 'bakso': 1, 'enak': 3, 'dan': 2, 'lezat': 8, 'makanan': 10, 'favorit': 5, 'adalah': 0, 'nasi': 12, 'goreng': 6, 'pedas': 13, 'manis': 11, 'seperti': 15, 'es': 4, 'krim': 7}\n"
          ]
        }
      ]
    },
    {
      "cell_type": "code",
      "source": [
        "print(\"TF-IDF Matrix:\")\n",
        "print(tfidf_matrix.toarray())"
      ],
      "metadata": {
        "colab": {
          "base_uri": "https://localhost:8080/"
        },
        "id": "MTNykNzo65N2",
        "outputId": "0867aa20-068f-4f4f-beb3-c7361c0bf972"
      },
      "execution_count": 6,
      "outputs": [
        {
          "output_type": "stream",
          "name": "stdout",
          "text": [
            "TF-IDF Matrix:\n",
            "[[0.         0.49851188 0.         0.         0.         0.\n",
            "  0.         0.         0.         0.61789262 0.         0.\n",
            "  0.         0.         0.34810993 0.         0.49851188]\n",
            " [0.         0.42224214 0.52335825 0.52335825 0.         0.\n",
            "  0.         0.         0.52335825 0.         0.         0.\n",
            "  0.         0.         0.         0.         0.        ]\n",
            " [0.43951606 0.         0.         0.         0.         0.43951606\n",
            "  0.43951606 0.         0.         0.         0.36483803 0.\n",
            "  0.43951606 0.         0.30691325 0.         0.        ]\n",
            " [0.38596041 0.         0.         0.         0.         0.38596041\n",
            "  0.38596041 0.         0.         0.         0.320382   0.\n",
            "  0.38596041 0.47838798 0.26951544 0.         0.        ]\n",
            " [0.         0.         0.         0.         0.42966246 0.\n",
            "  0.         0.42966246 0.         0.         0.28774996 0.42966246\n",
            "  0.         0.         0.24206433 0.42966246 0.34664897]]\n"
          ]
        }
      ]
    },
    {
      "cell_type": "markdown",
      "source": [
        "Dengan TF-IDF Matrix ini, kita bisa melihat kata-kata yang paling penting dalam setiap dokumen berdasarkan konteksnya. Semakin tinggi nilai dalam tabel, semakin penting kata tersebut pada dokumen tersebut."
      ],
      "metadata": {
        "id": "CXfP8cDr7T5q"
      }
    }
  ]
}